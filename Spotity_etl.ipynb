{
 "cells": [
  {
   "cell_type": "code",
   "execution_count": 1,
   "metadata": {},
   "outputs": [
    {
     "name": "stdout",
     "output_type": "stream",
     "text": [
      "Defaulting to user installation because normal site-packages is not writeable\n",
      "Collecting spotipy\n",
      "  Downloading spotipy-2.23.0-py3-none-any.whl (29 kB)\n",
      "Requirement already satisfied: urllib3>=1.26.0 in ./Library/Python/3.9/lib/python/site-packages (from spotipy) (1.26.15)\n",
      "Requirement already satisfied: six>=1.15.0 in /Library/Developer/CommandLineTools/Library/Frameworks/Python3.framework/Versions/3.9/lib/python3.9/site-packages (from spotipy) (1.15.0)\n",
      "Requirement already satisfied: requests>=2.25.0 in ./Library/Python/3.9/lib/python/site-packages (from spotipy) (2.30.0)\n",
      "Collecting redis>=3.5.3\n",
      "  Downloading redis-4.5.5-py3-none-any.whl (240 kB)\n",
      "\u001b[K     |████████████████████████████████| 240 kB 3.3 MB/s eta 0:00:01\n",
      "\u001b[?25hRequirement already satisfied: async-timeout>=4.0.2 in ./Library/Python/3.9/lib/python/site-packages (from redis>=3.5.3->spotipy) (4.0.2)\n",
      "Requirement already satisfied: idna<4,>=2.5 in ./Library/Python/3.9/lib/python/site-packages (from requests>=2.25.0->spotipy) (3.4)\n",
      "Requirement already satisfied: certifi>=2017.4.17 in ./Library/Python/3.9/lib/python/site-packages (from requests>=2.25.0->spotipy) (2023.5.7)\n",
      "Requirement already satisfied: charset-normalizer<4,>=2 in ./Library/Python/3.9/lib/python/site-packages (from requests>=2.25.0->spotipy) (3.1.0)\n",
      "Installing collected packages: redis, spotipy\n",
      "Successfully installed redis-4.5.5 spotipy-2.23.0\n",
      "\u001b[33mWARNING: You are using pip version 21.2.4; however, version 23.1.2 is available.\n",
      "You should consider upgrading via the '/Library/Developer/CommandLineTools/usr/bin/python3 -m pip install --upgrade pip' command.\u001b[0m\n",
      "Note: you may need to restart the kernel to use updated packages.\n"
     ]
    }
   ],
   "source": [
    "# install spotify library \n",
    "pip install spotipy"
   ]
  },
  {
   "cell_type": "code",
   "execution_count": 2,
   "metadata": {},
   "outputs": [],
   "source": [
    "#importing spotify package\n",
    "import spotipy\n",
    "from spotipy.oauth2 import SpotifyClientCredentials"
   ]
  },
  {
   "cell_type": "code",
   "execution_count": 9,
   "metadata": {},
   "outputs": [],
   "source": [
    "# authorization credentials for spotify api \n",
    "\n",
    "spotify_credentials = SpotifyClientCredentials(client_id=\"\", client_secret=\"\")\n"
   ]
  },
  {
   "cell_type": "code",
   "execution_count": 30,
   "metadata": {},
   "outputs": [],
   "source": [
    "# object needed to extract data from api \n",
    "\n",
    "spotify_ob = spotipy.Spotify(client_credentials_manager=spotify_credentials)"
   ]
  },
  {
   "cell_type": "code",
   "execution_count": 31,
   "metadata": {},
   "outputs": [],
   "source": [
    "# global top 50 playlist link \n",
    "\n",
    "top50_playlist = \"https://open.spotify.com/playlist/37i9dQZEVXbMDoHDwVN2tF\""
   ]
  },
  {
   "cell_type": "code",
   "execution_count": 32,
   "metadata": {},
   "outputs": [
    {
     "name": "stdout",
     "output_type": "stream",
     "text": [
      "37i9dQZEVXbMDoHDwVN2tF\n"
     ]
    }
   ],
   "source": [
    "# extracting specefic part of url to pass on to api\n",
    "\n",
    "top50_playlist_url = top50_playlist.split(\"/\")[-1]\n",
    "print(top50_playlist_url)"
   ]
  },
  {
   "cell_type": "code",
   "execution_count": 37,
   "metadata": {},
   "outputs": [],
   "source": [
    "# top 50 playlist data extracted\n",
    "top50_data = spotify_ob.playlist_tracks(top50_playlist_url)\n"
   ]
  },
  {
   "cell_type": "code",
   "execution_count": 55,
   "metadata": {},
   "outputs": [
    {
     "data": {
      "text/plain": [
       "'5aDEezKnOqyQo0qvTFhpkM'"
      ]
     },
     "execution_count": 55,
     "metadata": {},
     "output_type": "execute_result"
    }
   ],
   "source": [
    "# first item id         \n",
    "top50_data['items'][0]['track']['album']['id']"
   ]
  },
  {
   "cell_type": "code",
   "execution_count": 45,
   "metadata": {},
   "outputs": [
    {
     "data": {
      "text/plain": [
       "'DESVELADO'"
      ]
     },
     "execution_count": 45,
     "metadata": {},
     "output_type": "execute_result"
    }
   ],
   "source": [
    "# first item album name\n",
    "top50_data['items'][0]['track']['album']['name']"
   ]
  },
  {
   "cell_type": "code",
   "execution_count": 50,
   "metadata": {},
   "outputs": [
    {
     "data": {
      "text/plain": [
       "'2023-04-28'"
      ]
     },
     "execution_count": 50,
     "metadata": {},
     "output_type": "execute_result"
    }
   ],
   "source": [
    "# first item album release date \n",
    "top50_data['items'][0]['track']['album']['release_date']"
   ]
  },
  {
   "cell_type": "code",
   "execution_count": 52,
   "metadata": {},
   "outputs": [
    {
     "data": {
      "text/plain": [
       "16"
      ]
     },
     "execution_count": 52,
     "metadata": {},
     "output_type": "execute_result"
    }
   ],
   "source": [
    "# first item album total_tracks\n",
    "top50_data['items'][0]['track']['album']['total_tracks']"
   ]
  },
  {
   "cell_type": "code",
   "execution_count": 56,
   "metadata": {},
   "outputs": [
    {
     "data": {
      "text/plain": [
       "'https://open.spotify.com/album/5aDEezKnOqyQo0qvTFhpkM'"
      ]
     },
     "execution_count": 56,
     "metadata": {},
     "output_type": "execute_result"
    }
   ],
   "source": [
    "# first item album external url \n",
    "top50_data['items'][0]['track']['album']['external_urls']['spotify']"
   ]
  },
  {
   "cell_type": "code",
   "execution_count": 71,
   "metadata": {},
   "outputs": [],
   "source": [
    "# extracting informatiopn about items in playlist album\n",
    "top50_list = []\n",
    "\n",
    "for line in top50_data['items']:\n",
    "    album_id_top50 = line['track']['album']['id']\n",
    "    album_name_top50 = line['track']['album']['name']\n",
    "    album_releasedate_top50 = line['track']['album']['release_date']\n",
    "    album_totaltracks_top50 = line['track']['album']['total_tracks']\n",
    "    album_url_top50 = line['track']['album']['external_urls']['spotify']\n",
    "    # converting into dictonary \n",
    "    album_dict = {'id': album_id_top50, 'name': album_name_top50, 'release_date':album_releasedate_top50, 'total_tracks': album_totaltracks_top50, 'url': album_url_top50 }\n",
    "    top50_list.append(album_dict)"
   ]
  },
  {
   "cell_type": "code",
   "execution_count": 75,
   "metadata": {},
   "outputs": [
    {
     "data": {
      "text/plain": [
       "[{'id': '5aDEezKnOqyQo0qvTFhpkM',\n",
       "  'name': 'DESVELADO',\n",
       "  'release_date': '2023-04-28',\n",
       "  'total_tracks': 16,\n",
       "  'url': 'https://open.spotify.com/album/5aDEezKnOqyQo0qvTFhpkM'},\n",
       " {'id': '7aGzSSUD8S6IhPCsZSiuMT',\n",
       "  'name': 'un x100to',\n",
       "  'release_date': '2023-04-17',\n",
       "  'total_tracks': 1,\n",
       "  'url': 'https://open.spotify.com/album/7aGzSSUD8S6IhPCsZSiuMT'},\n",
       " {'id': '5letLUZIFsQikJYShfGNs4',\n",
       "  'name': 'The Beginning: Cupid',\n",
       "  'release_date': '2023-02-24',\n",
       "  'total_tracks': 3,\n",
       "  'url': 'https://open.spotify.com/album/5letLUZIFsQikJYShfGNs4'},\n",
       " {'id': '6aBVGuOUEuX18rHxyDWbti',\n",
       "  'name': 'La Bebe (Remix)',\n",
       "  'release_date': '2023-03-17',\n",
       "  'total_tracks': 2,\n",
       "  'url': 'https://open.spotify.com/album/6aBVGuOUEuX18rHxyDWbti'},\n",
       " {'id': '0HiZ8fNXwJOQcrf5iflrdz',\n",
       "  'name': 'Endless Summer Vacation',\n",
       "  'release_date': '2023-03-10',\n",
       "  'total_tracks': 13,\n",
       "  'url': 'https://open.spotify.com/album/0HiZ8fNXwJOQcrf5iflrdz'},\n",
       " {'id': '6NcI39WPu4kY6Tul11nhSv',\n",
       "  'name': 'Daylight',\n",
       "  'release_date': '2023-04-14',\n",
       "  'total_tracks': 1,\n",
       "  'url': 'https://open.spotify.com/album/6NcI39WPu4kY6Tul11nhSv'},\n",
       " {'id': '1nrVofqDRs7cpWXJ49qTnP',\n",
       "  'name': 'SOS',\n",
       "  'release_date': '2022-12-08',\n",
       "  'total_tracks': 23,\n",
       "  'url': 'https://open.spotify.com/album/1nrVofqDRs7cpWXJ49qTnP'},\n",
       " {'id': '5r36AJ6VOJtp00oxSkBZ5h',\n",
       "  'name': \"Harry's House\",\n",
       "  'release_date': '2022-05-20',\n",
       "  'total_tracks': 13,\n",
       "  'url': 'https://open.spotify.com/album/5r36AJ6VOJtp00oxSkBZ5h'},\n",
       " {'id': '0LRTS7FyYLppkDLOZT02Xp',\n",
       "  'name': 'Tattoo',\n",
       "  'release_date': '2023-02-25',\n",
       "  'total_tracks': 1,\n",
       "  'url': 'https://open.spotify.com/album/0LRTS7FyYLppkDLOZT02Xp'},\n",
       " {'id': '4kS7bSuU0Jm9LYMosFU2x5',\n",
       "  'name': 'MAÑANA SERÁ BONITO',\n",
       "  'release_date': '2023-02-24',\n",
       "  'total_tracks': 17,\n",
       "  'url': 'https://open.spotify.com/album/4kS7bSuU0Jm9LYMosFU2x5'},\n",
       " {'id': '4ZQmQzeicvUGkLxFTI2Dvd',\n",
       "  'name': 'Acróstico',\n",
       "  'release_date': '2023-05-11',\n",
       "  'total_tracks': 1,\n",
       "  'url': 'https://open.spotify.com/album/4ZQmQzeicvUGkLxFTI2Dvd'},\n",
       " {'id': '4jtQUtS4ABgER3DnGfKJCv',\n",
       "  'name': 'Classy 101',\n",
       "  'release_date': '2023-03-31',\n",
       "  'total_tracks': 1,\n",
       "  'url': 'https://open.spotify.com/album/4jtQUtS4ABgER3DnGfKJCv'},\n",
       " {'id': '5rBqeRlrrzR77MAkbgAmS6',\n",
       "  'name': 'Cha Cha Cha',\n",
       "  'release_date': '2023-01-17',\n",
       "  'total_tracks': 1,\n",
       "  'url': 'https://open.spotify.com/album/5rBqeRlrrzR77MAkbgAmS6'},\n",
       " {'id': '7txGsnDSqVMoRl6RQ9XyZP',\n",
       "  'name': 'HEROES & VILLAINS',\n",
       "  'release_date': '2022-12-02',\n",
       "  'total_tracks': 15,\n",
       "  'url': 'https://open.spotify.com/album/7txGsnDSqVMoRl6RQ9XyZP'},\n",
       " {'id': '50uChhk7AKkzDKytDixjYW',\n",
       "  'name': 'RR',\n",
       "  'release_date': '2023-03-24',\n",
       "  'total_tracks': 3,\n",
       "  'url': 'https://open.spotify.com/album/50uChhk7AKkzDKytDixjYW'},\n",
       " {'id': '35dut3ICqF3NEDkjxfzJJ1',\n",
       "  'name': 'Starboy (Deluxe)',\n",
       "  'release_date': '2023-03-14',\n",
       "  'total_tracks': 21,\n",
       "  'url': 'https://open.spotify.com/album/35dut3ICqF3NEDkjxfzJJ1'},\n",
       " {'id': '0nayxjaX54Frd7GsZq6Pbs',\n",
       "  'name': 'Rave & Roses Ultra',\n",
       "  'release_date': '2023-04-27',\n",
       "  'total_tracks': 22,\n",
       "  'url': 'https://open.spotify.com/album/0nayxjaX54Frd7GsZq6Pbs'},\n",
       " {'id': '2nkto6YNI4rUYTLqEwWJ3o',\n",
       "  'name': 'Flower Boy',\n",
       "  'release_date': '2017-07-21',\n",
       "  'total_tracks': 14,\n",
       "  'url': 'https://open.spotify.com/album/2nkto6YNI4rUYTLqEwWJ3o'},\n",
       " {'id': '5xefnzEqKIWnmTWYFzekGZ',\n",
       "  'name': 'Resistencia',\n",
       "  'release_date': '2023-01-13',\n",
       "  'total_tracks': 17,\n",
       "  'url': 'https://open.spotify.com/album/5xefnzEqKIWnmTWYFzekGZ'},\n",
       " {'id': '2OXBosbXT7Qs3J6vBd6IkI',\n",
       "  'name': 'PRC',\n",
       "  'release_date': '2023-01-23',\n",
       "  'total_tracks': 1,\n",
       "  'url': 'https://open.spotify.com/album/2OXBosbXT7Qs3J6vBd6IkI'},\n",
       " {'id': '2szyIt0ulaHnKxxyrlUCDB',\n",
       "  'name': 'El Azul',\n",
       "  'release_date': '2023-02-10',\n",
       "  'total_tracks': 1,\n",
       "  'url': 'https://open.spotify.com/album/2szyIt0ulaHnKxxyrlUCDB'},\n",
       " {'id': '6cVfHBcp3AdpYY0bBglkLN',\n",
       "  'name': \"Boy's a liar Pt. 2\",\n",
       "  'release_date': '2023-02-03',\n",
       "  'total_tracks': 2,\n",
       "  'url': 'https://open.spotify.com/album/6cVfHBcp3AdpYY0bBglkLN'},\n",
       " {'id': '151w1FgRZfnKZA9FEcg9Z3',\n",
       "  'name': 'Midnights',\n",
       "  'release_date': '2022-10-21',\n",
       "  'total_tracks': 13,\n",
       "  'url': 'https://open.spotify.com/album/151w1FgRZfnKZA9FEcg9Z3'},\n",
       " {'id': '4AdZV63ycxFLF6Hcol0QnB',\n",
       "  'name': 'Starboy',\n",
       "  'release_date': '2016-11-24',\n",
       "  'total_tracks': 18,\n",
       "  'url': 'https://open.spotify.com/album/4AdZV63ycxFLF6Hcol0QnB'},\n",
       " {'id': '7M842DMhYVALrXsw3ty7B3',\n",
       "  'name': \"I'm Good (Blue)\",\n",
       "  'release_date': '2022-08-26',\n",
       "  'total_tracks': 2,\n",
       "  'url': 'https://open.spotify.com/album/7M842DMhYVALrXsw3ty7B3'},\n",
       " {'id': '6i7mF7whyRJuLJ4ogbH2wh',\n",
       "  'name': 'One Thing At A Time',\n",
       "  'release_date': '2023-03-03',\n",
       "  'total_tracks': 36,\n",
       "  'url': 'https://open.spotify.com/album/6i7mF7whyRJuLJ4ogbH2wh'},\n",
       " {'id': '78bpIziExqiI9qztvNFlQu',\n",
       "  'name': 'AM',\n",
       "  'release_date': '2013-09-09',\n",
       "  'total_tracks': 12,\n",
       "  'url': 'https://open.spotify.com/album/78bpIziExqiI9qztvNFlQu'},\n",
       " {'id': '0lZQagJ5r0crB35zphSD4A',\n",
       "  'name': 'All My Life (feat. J. Cole)',\n",
       "  'release_date': '2023-05-12',\n",
       "  'total_tracks': 1,\n",
       "  'url': 'https://open.spotify.com/album/0lZQagJ5r0crB35zphSD4A'},\n",
       " {'id': '5BRhg6NSEZOj0BR6Iz56fR',\n",
       "  'name': 'Plastic Hearts',\n",
       "  'release_date': '2020-11-27',\n",
       "  'total_tracks': 15,\n",
       "  'url': 'https://open.spotify.com/album/5BRhg6NSEZOj0BR6Iz56fR'},\n",
       " {'id': '69AaAkdktFGnk9POmHENkT',\n",
       "  'name': 'this is what ____ feels like (Vol. 1-4)',\n",
       "  'release_date': '2022-09-23',\n",
       "  'total_tracks': 12,\n",
       "  'url': 'https://open.spotify.com/album/69AaAkdktFGnk9POmHENkT'},\n",
       " {'id': '0s2sLResjP92wRavoj9k0O',\n",
       "  'name': 'AMG',\n",
       "  'release_date': '2022-11-24',\n",
       "  'total_tracks': 1,\n",
       "  'url': 'https://open.spotify.com/album/0s2sLResjP92wRavoj9k0O'},\n",
       " {'id': '0OuoHWf8yB0TPzoBWw1R1S',\n",
       "  'name': 'Here With Me',\n",
       "  'release_date': '2022-09-22',\n",
       "  'total_tracks': 1,\n",
       "  'url': 'https://open.spotify.com/album/0OuoHWf8yB0TPzoBWw1R1S'},\n",
       " {'id': '1gi2iwr1l8IUyHYHxi01pg',\n",
       "  'name': 'Shakira: Bzrp Music Sessions, Vol. 53',\n",
       "  'release_date': '2023-01-11',\n",
       "  'total_tracks': 1,\n",
       "  'url': 'https://open.spotify.com/album/1gi2iwr1l8IUyHYHxi01pg'},\n",
       " {'id': '0KGBW1MQtC2aFPCDUdAkdJ',\n",
       "  'name': 'Long Way Down',\n",
       "  'release_date': '2013-06-17',\n",
       "  'total_tracks': 10,\n",
       "  'url': 'https://open.spotify.com/album/0KGBW1MQtC2aFPCDUdAkdJ'},\n",
       " {'id': '5OZ44LaqZbpP3m9B3oT8br',\n",
       "  'name': 'Red Moon In Venus',\n",
       "  'release_date': '2023-03-03',\n",
       "  'total_tracks': 15,\n",
       "  'url': 'https://open.spotify.com/album/5OZ44LaqZbpP3m9B3oT8br'},\n",
       " {'id': '7ARtQpvnPN2ucbmVHngLOs',\n",
       "  'name': 'Until I Found You (Em Beihold Version)',\n",
       "  'release_date': '2022-04-22',\n",
       "  'total_tracks': 1,\n",
       "  'url': 'https://open.spotify.com/album/7ARtQpvnPN2ucbmVHngLOs'},\n",
       " {'id': '3Uq1jNGnD412ZvCb6j2DKV',\n",
       "  'name': 'Gloria',\n",
       "  'release_date': '2023-01-27',\n",
       "  'total_tracks': 13,\n",
       "  'url': 'https://open.spotify.com/album/3Uq1jNGnD412ZvCb6j2DKV'},\n",
       " {'id': '2ODvWsOgouMbaA5xf0RkJe',\n",
       "  'name': 'Starboy',\n",
       "  'release_date': '2016-11-25',\n",
       "  'total_tracks': 18,\n",
       "  'url': 'https://open.spotify.com/album/2ODvWsOgouMbaA5xf0RkJe'},\n",
       " {'id': '1NAmidJlEaVgA3MpcPFYGq',\n",
       "  'name': 'Lover',\n",
       "  'release_date': '2019-08-23',\n",
       "  'total_tracks': 18,\n",
       "  'url': 'https://open.spotify.com/album/1NAmidJlEaVgA3MpcPFYGq'},\n",
       " {'id': '4xc3Lc9yASZgEJGH7acWMB',\n",
       "  'name': 'FACE',\n",
       "  'release_date': '2023-03-24',\n",
       "  'total_tracks': 6,\n",
       "  'url': 'https://open.spotify.com/album/4xc3Lc9yASZgEJGH7acWMB'},\n",
       " {'id': '5Hmh6N8oisrcuZKa8EY5dn',\n",
       "  'name': 'People',\n",
       "  'release_date': '2022-12-06',\n",
       "  'total_tracks': 1,\n",
       "  'url': 'https://open.spotify.com/album/5Hmh6N8oisrcuZKa8EY5dn'},\n",
       " {'id': '1kjfMVBNhsDeRyAu9zbLfF',\n",
       "  'name': 'OzuTochi',\n",
       "  'release_date': '2022-10-07',\n",
       "  'total_tracks': 18,\n",
       "  'url': 'https://open.spotify.com/album/1kjfMVBNhsDeRyAu9zbLfF'},\n",
       " {'id': '33inEak0hNKMDePhjGxE61',\n",
       "  'name': 'OneRepublic (Japan Paradise Tour Edition)',\n",
       "  'release_date': '2023-02-15',\n",
       "  'total_tracks': 18,\n",
       "  'url': 'https://open.spotify.com/album/33inEak0hNKMDePhjGxE61'},\n",
       " {'id': '6USJaTtVIy0YH5hhzOWVHe',\n",
       "  'name': 'Por las Noches',\n",
       "  'release_date': '2021-06-11',\n",
       "  'total_tracks': 1,\n",
       "  'url': 'https://open.spotify.com/album/6USJaTtVIy0YH5hhzOWVHe'},\n",
       " {'id': '7ubO2LZJZFpyhiWMZkRwcH',\n",
       "  'name': '2000',\n",
       "  'release_date': '2023-03-17',\n",
       "  'total_tracks': 15,\n",
       "  'url': 'https://open.spotify.com/album/7ubO2LZJZFpyhiWMZkRwcH'},\n",
       " {'id': '1kTlYbs28MXw7hwO0NLYif',\n",
       "  'name': 'Encore (Deluxe Version)',\n",
       "  'release_date': '2004-11-12',\n",
       "  'total_tracks': 23,\n",
       "  'url': 'https://open.spotify.com/album/1kTlYbs28MXw7hwO0NLYif'},\n",
       " {'id': '6Fkp68IAnNvIRJ8rm1MxhB',\n",
       "  'name': 'Queen of Kings',\n",
       "  'release_date': '2023-01-09',\n",
       "  'total_tracks': 1,\n",
       "  'url': 'https://open.spotify.com/album/6Fkp68IAnNvIRJ8rm1MxhB'},\n",
       " {'id': '6ZG5lRT77aJ3btmArcykra',\n",
       "  'name': 'Parachutes',\n",
       "  'release_date': '2000-07-10',\n",
       "  'total_tracks': 10,\n",
       "  'url': 'https://open.spotify.com/album/6ZG5lRT77aJ3btmArcykra'},\n",
       " {'id': '6iZUwDpa27jeAvKxs8UYI2',\n",
       "  'name': 'Frágil',\n",
       "  'release_date': '2023-04-07',\n",
       "  'total_tracks': 1,\n",
       "  'url': 'https://open.spotify.com/album/6iZUwDpa27jeAvKxs8UYI2'},\n",
       " {'id': '0DqHNI5QhosQmpQ5Ojzqe6',\n",
       "  'name': 'El Gordo Trae El Mando',\n",
       "  'release_date': '2023-01-27',\n",
       "  'total_tracks': 1,\n",
       "  'url': 'https://open.spotify.com/album/0DqHNI5QhosQmpQ5Ojzqe6'}]"
      ]
     },
     "execution_count": 75,
     "metadata": {},
     "output_type": "execute_result"
    }
   ],
   "source": [
    "# preview of top 50 albums and their extracted information \n",
    "top50_list"
   ]
  },
  {
   "cell_type": "code",
   "execution_count": null,
   "metadata": {},
   "outputs": [],
   "source": []
  }
 ],
 "metadata": {
  "kernelspec": {
   "display_name": "Python 3",
   "language": "python",
   "name": "python3"
  },
  "language_info": {
   "codemirror_mode": {
    "name": "ipython",
    "version": 3
   },
   "file_extension": ".py",
   "mimetype": "text/x-python",
   "name": "python",
   "nbconvert_exporter": "python",
   "pygments_lexer": "ipython3",
   "version": "3.9.6"
  },
  "orig_nbformat": 4
 },
 "nbformat": 4,
 "nbformat_minor": 2
}
